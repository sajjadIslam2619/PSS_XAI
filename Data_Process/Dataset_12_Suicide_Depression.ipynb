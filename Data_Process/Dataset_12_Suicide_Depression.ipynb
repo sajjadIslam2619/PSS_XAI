{
 "cells": [
  {
   "cell_type": "markdown",
   "id": "86a2cc37",
   "metadata": {},
   "source": [
    "Title: Deep Learning for Suicide and Depression Identification with Unsupervised Label Correction\n",
    "\n",
    "Link: https://github.com/ayaanzhaque/SDCNL/blob/main/README.md"
   ]
  },
  {
   "cell_type": "markdown",
   "id": "85013f9e",
   "metadata": {},
   "source": [
    "Dataset description: The study’s primary dataset was collected from Reddit posts in r/Depression and r/SuicideWatch, containing 1,895 posts labeled according to subreddit membership. To validate the label correction method, the authors also used the Reddit C-SSRS dataset (500 posts labeled by psychologists using the Columbia Suicide Severity Rating Scale) and the IMDB movie review dataset (50,000 reviews for sentiment classification). Additionally, posts from r/CasualConversation were used alongside r/SuicideWatch to construct a comparison dataset for suicide vs healthy classification"
   ]
  }
 ],
 "metadata": {
  "language_info": {
   "name": "python"
  }
 },
 "nbformat": 4,
 "nbformat_minor": 5
}
