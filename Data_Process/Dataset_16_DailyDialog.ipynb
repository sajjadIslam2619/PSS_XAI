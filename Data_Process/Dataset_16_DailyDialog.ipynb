{
 "cells": [
  {
   "cell_type": "markdown",
   "id": "3349b855",
   "metadata": {},
   "source": [
    "Title: DailyDialog: A Manually Labelled Multi-turn Dialogue Dataset\n",
    "\n",
    "Link: https://github.com/Sanghoon94/DailyDialogue-Parser/tree/master"
   ]
  },
  {
   "cell_type": "markdown",
   "id": "700d8bea",
   "metadata": {},
   "source": [
    "Dataset description: The DailyDialog dataset consists of 13,118 human-written multi-turn dialogues, each averaging about 8 turns and 115 tokens, covering ten daily-life topics such as relationships, work, and ordinary life. Each utterance is manually annotated with dialog acts (Inform, Questions, Directives, Commissive) and emotions (Anger, Disgust, Fear, Happiness, Sadness, Surprise, Other), making it a rich resource for studying both conversational flow and emotional expression."
   ]
  }
 ],
 "metadata": {
  "kernelspec": {
   "display_name": "py312_xai",
   "language": "python",
   "name": "python3"
  },
  "language_info": {
   "name": "python",
   "version": "3.12.11"
  }
 },
 "nbformat": 4,
 "nbformat_minor": 5
}
