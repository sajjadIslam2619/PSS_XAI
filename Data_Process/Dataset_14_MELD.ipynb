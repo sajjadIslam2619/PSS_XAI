{
 "cells": [
  {
   "cell_type": "markdown",
   "id": "ebab19b2",
   "metadata": {},
   "source": [
    "Title: MELD: A Multimodal Multi-Party Dataset for Emotion Recognition in Conversations\n",
    "\n",
    "Link: https://affective-meld.github.io/\n",
    "\n"
   ]
  },
  {
   "cell_type": "markdown",
   "id": "88afb34d",
   "metadata": {},
   "source": [
    "Dataset description: The MELD dataset is a multimodal, multi-party conversational corpus built from the TV series Friends. It contains about 13,000 utterances from 1,433 dialogues, each aligned with text, audio, and video clips. Every utterance is annotated with seven emotions (anger, disgust, fear, joy, neutral, sadness, surprise) and mapped into sentiment classes (positive, negative, neutral). Compared to earlier datasets like EmotionLines, MELD offers multi-party conversations, improved annotation quality using multimodal cues, and nearly double the number of utterances available for emotion recognition in dialogue"
   ]
  },
  {
   "cell_type": "markdown",
   "id": "a1867c42",
   "metadata": {},
   "source": [
    "# How to extract conversation text data and their labels\n",
    "\n",
    "Extract conversation text and labels from MELD by loading the provided CSV files (train_sent_emo.csv, dev_sent_emo.csv, test_sent_emo.csv) and selecting the Utterance, Emotion, and Sentiment columns. This gives you the dialogue text with its corresponding emotion and sentiment labels."
   ]
  }
 ],
 "metadata": {
  "kernelspec": {
   "display_name": "py312_xai",
   "language": "python",
   "name": "python3"
  },
  "language_info": {
   "name": "python",
   "version": "3.12.11"
  }
 },
 "nbformat": 4,
 "nbformat_minor": 5
}
