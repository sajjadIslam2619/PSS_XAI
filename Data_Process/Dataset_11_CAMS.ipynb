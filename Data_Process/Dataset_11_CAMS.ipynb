{
 "cells": [
  {
   "cell_type": "markdown",
   "id": "7db23384",
   "metadata": {},
   "source": [
    "Title: CAMS: An Annotated Corpus for Causal Analysis of Mental Health Issues in Social Media Posts\n",
    "\n",
    "Link: https://github.com/drmuskangarg/CAMS/tree/main"
   ]
  },
  {
   "cell_type": "markdown",
   "id": "c9f9d0ad",
   "metadata": {},
   "source": [
    "Dataset description: The CAMS dataset is a curated corpus of 5051 Reddit posts that enables causal analysis of mental health issues in social media. Each post is annotated with a causal inference and categorized into one of six classes: no reason, bias or abuse, jobs and careers, medication, relationships, or alienation. It combines 3155 posts collected from r/depression with 1896 re-annotated posts from the SDCNL dataset, all verified by experts for reliability. This dataset is the first publicly available resource specifically designed for interpretable causal analysis in mental health research."
   ]
  },
  {
   "cell_type": "markdown",
   "id": "e904ff8d",
   "metadata": {},
   "source": [
    "#### Skipping this dataset for mental health classification. It might be helpful later for \"EXPLAINABILITY\""
   ]
  }
 ],
 "metadata": {
  "language_info": {
   "name": "python"
  }
 },
 "nbformat": 4,
 "nbformat_minor": 5
}
