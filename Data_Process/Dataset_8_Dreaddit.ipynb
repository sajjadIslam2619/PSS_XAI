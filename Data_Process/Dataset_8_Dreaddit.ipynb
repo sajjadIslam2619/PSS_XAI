{
 "cells": [
  {
   "cell_type": "markdown",
   "id": "f9490d92",
   "metadata": {},
   "source": [
    "Title: Dreaddit: A Reddit Dataset for Stress Analysis in Social Media\n",
    "\n",
    "Link: Direct download link avaialbe in the paper's 1st page footnote. "
   ]
  },
  {
   "cell_type": "markdown",
   "id": "d29424a8",
   "metadata": {},
   "source": [
    "Dataset description: The Dreaddit dataset consists of 187,444 Reddit posts collected from ten subreddits across five domains (abuse, anxiety, financial, PTSD, and social/relationships). A subset of 3,553 text segments was annotated through Amazon Mechanical Turk for stress classification, with labels indicating stressful or non-stressful content. Unlike short microblogs, Dreaddit provides long-form, multi-domain narratives, enabling deeper analysis of how stress is expressed in online communities."
   ]
  },
  {
   "cell_type": "code",
   "execution_count": null,
   "id": "9a3cec6f",
   "metadata": {},
   "outputs": [],
   "source": [
    "#I want to create a new dataset with only the stress label. So do not consider text with label 0. I want to label the text as stress, anxiety, ptsd"
   ]
  },
  {
   "cell_type": "code",
   "execution_count": null,
   "id": "5c906ca5",
   "metadata": {},
   "outputs": [],
   "source": []
  }
 ],
 "metadata": {
  "kernelspec": {
   "display_name": "py312_xai",
   "language": "python",
   "name": "python3"
  },
  "language_info": {
   "name": "python",
   "version": "3.12.11"
  }
 },
 "nbformat": 4,
 "nbformat_minor": 5
}
