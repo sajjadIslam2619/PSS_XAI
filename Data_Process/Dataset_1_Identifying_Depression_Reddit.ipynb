{
 "cells": [
  {
   "cell_type": "markdown",
   "id": "072821f6",
   "metadata": {},
   "source": [
    "Paper Title: Identifying Depression on Reddit: The Effect of Training Data\n",
    "\n",
    "Paper Link: https://github.com/Inusette/Identifying-depression/tree/master/Data_Collector"
   ]
  },
  {
   "cell_type": "markdown",
   "id": "731015c4",
   "metadata": {},
   "source": [
    "# Data\n",
    "\n",
    "Eight datasets were created/used:\n",
    "\n",
    "DSF: Depression Support Forums (Ramirez-Esparza et al., 2008)\n",
    "\n",
    "DND: Non-Depression Forums (Gorbunova, 2017)\n",
    "\n",
    "DS: Reddit Depression Support subreddit\n",
    "\n",
    "BC: Reddit Breast Cancer subreddit (control)\n",
    "\n",
    "FF: Reddit Family/Friendship advice subreddits (control)\n",
    "\n",
    "DO: Posts by diagnosed depressed authors in other subreddits\n",
    "\n",
    "ND: Posts by non-depressed authors in other subreddits\n",
    "\n",
    "AllD–AllND: Combination of all positive and negative sets\n",
    "\n",
    "Each dataset contained ~400 training posts; DO/ND also had separate test sets."
   ]
  },
  {
   "cell_type": "markdown",
   "id": "16225dde",
   "metadata": {},
   "source": [
    "# How depression and non-depression emotions are separated?\n",
    "\n",
    "Depression (Positive Class)\n",
    "\n",
    "Depression Support Forums (DSF)\n",
    "Posts explicitly written in online forums by users self-identifying as depressed (Ramirez-Esparza et al., 2008).\n",
    "\n",
    "Reddit Depression Support Subreddit (DS)\n",
    "Posts from r/depression, where authors seek community support.\n",
    "\n",
    "Diagnosed Depression in Other Subreddits (DO)\n",
    "Posts by users who explicitly mention being diagnosed with depression (e.g., “I was just diagnosed with depression”) in r/depression.\n",
    "\n",
    "Then, the authors collected these same users’ posts in other unrelated subreddits (excluding ones like r/Anxiety, r/mentalhealth, r/depression_help).\n",
    "\n",
    "This produces depression-positive examples outside of overt depression discussions.\n",
    "\n",
    "Non-Depression (Negative Class)\n",
    "\n",
    "Non-Depression Forums (DND)\n",
    "Control group texts from forums unrelated to depression (Gorbunova, 2017).\n",
    "\n",
    "Reddit Breast Cancer Subreddit (BC)\n",
    "Chosen as a comparison group since users discuss illness but not depression.\n",
    "\n",
    "Reddit Family/Friendship Advice Subreddits (FF)\n",
    "Posts topically closer to depression but not about mental health (e.g., seeking advice on family or friendship).\n",
    "\n",
    "No Depression in Other Subreddits (ND)\n",
    "Posts from Reddit users who never posted in depression-related communities during the same timeframe.\n",
    "\n",
    "This group serves as the true control for DO (so DO vs. ND is the most realistic classification setting).\n",
    "\n",
    "Important Note\n",
    "\n",
    "For DO and ND, they ensured one post per author to avoid bias from prolific writers.\n",
    "\n",
    "Unlike Yates et al. (2017), they did not manually validate every diagnosis claim, so some false positives are possible (users might exaggerate or misuse “diagnosed with depression”)."
   ]
  },
  {
   "cell_type": "code",
   "execution_count": 4,
   "id": "fd9c4682",
   "metadata": {},
   "outputs": [
    {
     "name": "stdout",
     "output_type": "stream",
     "text": [
      "Found 3023 texts\n",
      "Saved to: d:\\Sajjad-Workspace\\XAI\\Data_Process\\Data_Warehouse\\depression_dataset.csv\n"
     ]
    }
   ],
   "source": [
    "from pathlib import Path\n",
    "import pandas as pd\n",
    "\n",
    "# Folders relative to the notebook location (Data_Process)\n",
    "project_dir = Path.cwd()\n",
    "source_dir = project_dir / \"Data_Lake\" / \"Dataset_1\"\n",
    "warehouse_dir = project_dir / \"Data_Warehouse\"\n",
    "warehouse_dir.mkdir(parents=True, exist_ok=True)  # ensure target exists\n",
    "\n",
    "rows = []\n",
    "\n",
    "# Walk all subfolders under Dataset_1 and collect .txt files\n",
    "for txt_path in source_dir.rglob(\"*.txt\"):\n",
    "    try:\n",
    "        text = txt_path.read_text(encoding=\"utf-8\", errors=\"ignore\").strip()\n",
    "        if text:  # skip empty files\n",
    "            # optional: keep the immediate subfolder name as source\n",
    "            source_folder = txt_path.parent.name\n",
    "            rows.append({\"text\": text, \"label\": \"depression\", \"source\": source_folder})\n",
    "    except Exception as e:\n",
    "        print(f\"Could not read {txt_path}: {e}\")\n",
    "\n",
    "# Build DataFrame and save\n",
    "df = pd.DataFrame(rows, columns=[\"text\", \"label\", \"source\"])\n",
    "out_path = warehouse_dir / \"depression_dataset.csv\"\n",
    "df.to_csv(out_path, index=False, encoding=\"utf-8\")\n",
    "\n",
    "print(f\"Found {len(rows)} texts\")\n",
    "print(f\"Saved to: {out_path}\")\n"
   ]
  }
 ],
 "metadata": {
  "kernelspec": {
   "display_name": "py312_xai",
   "language": "python",
   "name": "python3"
  },
  "language_info": {
   "codemirror_mode": {
    "name": "ipython",
    "version": 3
   },
   "file_extension": ".py",
   "mimetype": "text/x-python",
   "name": "python",
   "nbconvert_exporter": "python",
   "pygments_lexer": "ipython3",
   "version": "3.12.11"
  }
 },
 "nbformat": 4,
 "nbformat_minor": 5
}
