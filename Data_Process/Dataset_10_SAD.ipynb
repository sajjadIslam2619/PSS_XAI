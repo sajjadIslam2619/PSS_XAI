{
 "cells": [
  {
   "cell_type": "markdown",
   "id": "aaff8bc2",
   "metadata": {},
   "source": [
    "Title: SAD: A Stress Annotated Dataset for Recognizing Everyday Stressors in SMS-like Conversational Systems\n",
    "\n",
    "Link: https://github.com/PervasiveWellbeingTech/Stress-Annotated-Dataset-SAD "
   ]
  },
  {
   "cell_type": "markdown",
   "id": "308d0233",
   "metadata": {},
   "source": [
    "Dataset description: The Stress Annotated Dataset (SAD) contains 6,850 anonymized SMS-like sentences labeled into nine categories of everyday stressors, such as work, school, financial problems, family issues, and health. The data was collected from chatbot conversations, crowdsourcing on Amazon Mechanical Turk, and targeted web scraping from LiveJournal posts. Each entry includes metadata such as severity ratings, multiple label votes, and COVID-related tags, making it suitable for nuanced classification tasks. This dataset provides a valuable resource for training and evaluating conversational agents in stress detection and mental health applications"
   ]
  }
 ],
 "metadata": {
  "language_info": {
   "name": "python"
  }
 },
 "nbformat": 4,
 "nbformat_minor": 5
}
