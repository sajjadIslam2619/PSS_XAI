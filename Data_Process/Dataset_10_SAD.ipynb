{
 "cells": [
  {
   "cell_type": "markdown",
   "id": "aaff8bc2",
   "metadata": {},
   "source": [
    "Title: SAD: A Stress Annotated Dataset for Recognizing Everyday Stressors in SMS-like Conversational Systems\n",
    "\n",
    "Link: https://github.com/PervasiveWellbeingTech/Stress-Annotated-Dataset-SAD "
   ]
  },
  {
   "cell_type": "markdown",
   "id": "308d0233",
   "metadata": {},
   "source": [
    "Dataset description: The Stress Annotated Dataset (SAD) contains 6,850 anonymized SMS-like sentences labeled into nine categories of everyday stressors, such as work, school, financial problems, family issues, and health. The data was collected from chatbot conversations, crowdsourcing on Amazon Mechanical Turk, and targeted web scraping from LiveJournal posts. Each entry includes metadata such as severity ratings, multiple label votes, and COVID-related tags, making it suitable for nuanced classification tasks. This dataset provides a valuable resource for training and evaluating conversational agents in stress detection and mental health applications"
   ]
  },
  {
   "cell_type": "code",
   "execution_count": 3,
   "id": "9c192d9b",
   "metadata": {},
   "outputs": [
    {
     "name": "stdout",
     "output_type": "stream",
     "text": [
      "Saved 6476 rows to d:\\Sajjad-Workspace\\PSS_XAI\\Data_Process\\Data_Warehouse\\stress_dataset_2.csv\n"
     ]
    }
   ],
   "source": [
    "from pathlib import Path\n",
    "import pandas as pd\n",
    "import re\n",
    "\n",
    "# ========= CONFIG =========\n",
    "# Run this script from your project root that contains:\n",
    "#   Data_Lake/\n",
    "#   Data_Warehouse/\n",
    "project_dir = Path.cwd()\n",
    "source_path = project_dir / \"Data_Lake\" / \"Dataset_10\" / \"SAD_v1.xlsx\"\n",
    "warehouse_dir = project_dir / \"Data_Warehouse\"\n",
    "warehouse_dir.mkdir(parents=True, exist_ok=True)\n",
    "\n",
    "# Optionally specify a sheet name if needed, e.g. sheet_name=\"Sheet1\"\n",
    "SHEET_NAME = None  # set to a string if your data is not on the first sheet\n",
    "\n",
    "# ========= LOAD DATA =========\n",
    "df = pd.read_excel(source_path, sheet_name=0)\n",
    "\n",
    "# Basic sanity checks\n",
    "required_cols = {\"sentence\", \"is_stressor\", \"top_label\"}\n",
    "missing = required_cols - set(df.columns)\n",
    "if missing:\n",
    "    raise ValueError(f\"Missing required columns: {missing}\")\n",
    "\n",
    "# ========= TRANSFORM =========\n",
    "# Keep only rows where is_stressor == 1\n",
    "df = df[df[\"is_stressor\"] == 1].copy()\n",
    "\n",
    "# Clean sentence\n",
    "def clean_text(s: str) -> str:\n",
    "    s = str(s).strip()\n",
    "    s = re.sub(r\"\\s+\", \" \", s)\n",
    "    return s\n",
    "\n",
    "df[\"sentence\"] = df[\"sentence\"].map(clean_text)\n",
    "df = df[df[\"sentence\"] != \"\"]\n",
    "df = df.drop_duplicates(subset=[\"sentence\"])\n",
    "\n",
    "# Build the final dataframe\n",
    "df_final = pd.DataFrame({\n",
    "    \"text\": df[\"sentence\"],\n",
    "    \"label\": \"stress\",\n",
    "    \"sub-source\": df[\"top_label\"].fillna(\"Other\").astype(str),\n",
    "    \"source\": \"dataset_10\",\n",
    "})\n",
    "\n",
    "# ========= UTILS: unique filename =========\n",
    "def get_unique_path(base_dir: Path, base_name: str) -> Path:\n",
    "    \"\"\"Return a unique path by adding _2, _3, etc. if needed.\"\"\"\n",
    "    out_path = base_dir / base_name\n",
    "    if not out_path.exists():\n",
    "        return out_path\n",
    "    stem, ext = base_name.rsplit(\".\", 1)\n",
    "    i = 2\n",
    "    while True:\n",
    "        candidate = base_dir / f\"{stem}_{i}.{ext}\"\n",
    "        if not candidate.exists():\n",
    "            return candidate\n",
    "        i += 1\n",
    "\n",
    "# ========= SAVE =========\n",
    "out_path = get_unique_path(warehouse_dir, \"stress_dataset.csv\")\n",
    "df_final.to_csv(out_path, index=False, encoding=\"utf-8\")\n",
    "print(f\"Saved {len(df_final)} rows to {out_path}\")\n"
   ]
  }
 ],
 "metadata": {
  "kernelspec": {
   "display_name": "py312_xai",
   "language": "python",
   "name": "python3"
  },
  "language_info": {
   "codemirror_mode": {
    "name": "ipython",
    "version": 3
   },
   "file_extension": ".py",
   "mimetype": "text/x-python",
   "name": "python",
   "nbconvert_exporter": "python",
   "pygments_lexer": "ipython3",
   "version": "3.12.11"
  }
 },
 "nbformat": 4,
 "nbformat_minor": 5
}
